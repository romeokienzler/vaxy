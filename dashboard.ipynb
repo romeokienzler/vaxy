{
 "cells": [
  {
   "cell_type": "code",
   "execution_count": null,
   "id": "5cf90355-c773-4d7b-9791-abb84625f519",
   "metadata": {},
   "outputs": [],
   "source": [
    "#!pip install streamlit==1.2.0 matplotlib==3.5.1"
   ]
  },
  {
   "cell_type": "code",
   "execution_count": 2,
   "id": "7bcfc6e0-e518-4c0f-90e1-5f7e4c21a9d6",
   "metadata": {},
   "outputs": [],
   "source": [
    "import streamlit as st\n",
    "import pandas as pd\n",
    "\n",
    "\n",
    "\n",
    "df = pd.read_csv('data.csv')\n"
   ]
  },
  {
   "cell_type": "code",
   "execution_count": 4,
   "id": "66eeffe3-3926-4ff7-8863-84c57412524f",
   "metadata": {},
   "outputs": [
    {
     "data": {
      "text/html": [
       "<div>\n",
       "<style scoped>\n",
       "    .dataframe tbody tr th:only-of-type {\n",
       "        vertical-align: middle;\n",
       "    }\n",
       "\n",
       "    .dataframe tbody tr th {\n",
       "        vertical-align: top;\n",
       "    }\n",
       "\n",
       "    .dataframe thead th {\n",
       "        text-align: right;\n",
       "    }\n",
       "</style>\n",
       "<table border=\"1\" class=\"dataframe\">\n",
       "  <thead>\n",
       "    <tr style=\"text-align: right;\">\n",
       "      <th></th>\n",
       "      <th>vaccine</th>\n",
       "      <th>cases_total</th>\n",
       "      <th>cases_non_severe</th>\n",
       "      <th>cases_severe</th>\n",
       "      <th>vaccine_doses</th>\n",
       "      <th>fully_vaccinated</th>\n",
       "      <th>severe_probability</th>\n",
       "      <th>severe_percenage</th>\n",
       "    </tr>\n",
       "  </thead>\n",
       "  <tbody>\n",
       "    <tr>\n",
       "      <th>0</th>\n",
       "      <td>SpikevaxÂ® (Moderna)</td>\n",
       "      <td>6777</td>\n",
       "      <td>4662</td>\n",
       "      <td>2115</td>\n",
       "      <td>7291217</td>\n",
       "      <td>3642035</td>\n",
       "      <td>1722.002364</td>\n",
       "      <td>0.058072</td>\n",
       "    </tr>\n",
       "    <tr>\n",
       "      <th>1</th>\n",
       "      <td>ComirnatyÂ® (Pfizer/BioNTech)</td>\n",
       "      <td>2835</td>\n",
       "      <td>1662</td>\n",
       "      <td>1173</td>\n",
       "      <td>3824485</td>\n",
       "      <td>1893728</td>\n",
       "      <td>1614.431373</td>\n",
       "      <td>0.061941</td>\n",
       "    </tr>\n",
       "    <tr>\n",
       "      <th>2</th>\n",
       "      <td>COVID-19 Vaccine Janssen</td>\n",
       "      <td>31</td>\n",
       "      <td>21</td>\n",
       "      <td>10</td>\n",
       "      <td>21787</td>\n",
       "      <td>21577</td>\n",
       "      <td>2157.700000</td>\n",
       "      <td>0.046346</td>\n",
       "    </tr>\n",
       "    <tr>\n",
       "      <th>3</th>\n",
       "      <td>Total</td>\n",
       "      <td>9834</td>\n",
       "      <td>6438</td>\n",
       "      <td>3396</td>\n",
       "      <td>11137489</td>\n",
       "      <td>5557340</td>\n",
       "      <td>1636.436985</td>\n",
       "      <td>0.061108</td>\n",
       "    </tr>\n",
       "  </tbody>\n",
       "</table>\n",
       "</div>"
      ],
      "text/plain": [
       "                         vaccine  cases_total  cases_non_severe  cases_severe  \\\n",
       "0           SpikevaxÂ® (Moderna)         6777              4662          2115   \n",
       "1  ComirnatyÂ® (Pfizer/BioNTech)         2835              1662          1173   \n",
       "2       COVID-19 Vaccine Janssen           31                21            10   \n",
       "3                          Total         9834              6438          3396   \n",
       "\n",
       "   vaccine_doses  fully_vaccinated  severe_probability  severe_percenage  \n",
       "0        7291217           3642035         1722.002364          0.058072  \n",
       "1        3824485           1893728         1614.431373          0.061941  \n",
       "2          21787             21577         2157.700000          0.046346  \n",
       "3       11137489           5557340         1636.436985          0.061108  "
      ]
     },
     "execution_count": 4,
     "metadata": {},
     "output_type": "execute_result"
    }
   ],
   "source": [
    "df"
   ]
  },
  {
   "cell_type": "code",
   "execution_count": 9,
   "id": "e939fe48-4c62-438f-817b-de55db915538",
   "metadata": {},
   "outputs": [
    {
     "data": {
      "image/png": "[encoded data removed]",
      "text/plain": [
       "<Figure size 432x288 with 1 Axes>"
      ]
     },
     "metadata": {
      "needs_background": "light"
     },
     "output_type": "display_data"
    }
   ],
   "source": [
    "import matplotlib.pyplot as plt\n",
    "fig = plt.figure()\n",
    "ax = fig.add_axes([0,0,1,1])\n",
    "langs = ['C', 'C++', 'Java', 'Python', 'PHP']\n",
    "students = [23,17,35,29,12]\n",
    "ax.bar(df['vaccine'],df['severe_percenage'])\n",
    "plt.show()"
   ]
  },
  {
   "cell_type": "code",
   "execution_count": null,
   "id": "21d9eb4e-de53-47c0-bb1c-d576924992ac",
   "metadata": {},
   "outputs": [],
   "source": [
    "#!jupyter nbconvert dashboard.ipynb --to python --output dashboard.py"
   ]
  },
  {
   "cell_type": "code",
   "execution_count": null,
   "id": "ae5771e6-04dc-40e1-a261-c7ee61650a2c",
   "metadata": {},
   "outputs": [],
   "source": [
    "#!streamlit run dashboard.py"
   ]
  },
  {
   "cell_type": "code",
   "execution_count": null,
   "id": "483590bf-0c28-40d7-aff4-8a98787212da",
   "metadata": {},
   "outputs": [],
   "source": []
  }
 ],
 "metadata": {
  "kernelspec": {
   "display_name": "Python 3 (ipykernel)",
   "language": "python",
   "name": "python3"
  },
  "language_info": {
   "codemirror_mode": {
    "name": "ipython",
    "version": 3
   },
   "file_extension": ".py",
   "mimetype": "text/x-python",
   "name": "python",
   "nbconvert_exporter": "python",
   "pygments_lexer": "ipython3",
   "version": "3.8.6"
  }
 },
 "nbformat": 4,
 "nbformat_minor": 5
}
