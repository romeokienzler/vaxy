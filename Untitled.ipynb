{
 "cells": [
  {
   "cell_type": "code",
   "execution_count": 15,
   "id": "f0339418-498a-4899-963c-665cc86ccc2c",
   "metadata": {},
   "outputs": [],
   "source": [
    "import dash\n",
    "from dash import dash_table\n",
    "import pandas as pd\n",
    "import dash_html_components as html\n",
    "from dash.dependencies import Input, Output"
   ]
  },
  {
   "cell_type": "code",
   "execution_count": 16,
   "id": "eab58a41-5d1b-4cc4-a7a5-121705b9e19f",
   "metadata": {},
   "outputs": [],
   "source": [
    "df = pd.read_csv('data.csv')\n"
   ]
  },
  {
   "cell_type": "code",
   "execution_count": 17,
   "id": "96308cd2-3e60-4ca7-a3f3-073a0a22d64d",
   "metadata": {},
   "outputs": [],
   "source": [
    "app = dash.Dash(__name__)\n",
    "\n",
    "table = dash_table.DataTable(\n",
    "    id='table',\n",
    "    columns=[{\"name\": i, \"id\": i} for i in df.columns],\n",
    "    data=df.to_dict('records'),\n",
    "    sort_action=\"native\",\n",
    "    sort_mode=\"multi\"\n",
    ")\n"
   ]
  },
  {
   "cell_type": "code",
   "execution_count": 18,
   "id": "622f23c8-004b-4512-b365-4f92560f939b",
   "metadata": {},
   "outputs": [],
   "source": [
    "import dash_core_components as dcc\n",
    "import plotly.graph_objs as go\n",
    "\n",
    "fig = go.Figure(data=[go.Bar(x=df['vaccine'], y=df['severe_percenage'])])\n",
    "\n",
    "graph = dcc.Graph(figure=fig)"
   ]
  },
  {
   "cell_type": "code",
   "execution_count": 19,
   "id": "87c197ae-ac16-4928-a5c1-4f2f49cd923a",
   "metadata": {},
   "outputs": [],
   "source": [
    "app.layout = html.Div(children=[\n",
    "    html.H1(children='Shall I get vaccinated?'),\n",
    "\n",
    "    html.Div(children='''\n",
    "        Probability for severe (reported) side effect case in Switzerland\n",
    "    '''),\n",
    "    table,\n",
    "    graph,\n",
    "    dcc.Input(\n",
    "            id=\"input\",\n",
    "            type='number'\n",
    "        )\n",
    "])"
   ]
  },
  {
   "cell_type": "code",
   "execution_count": 20,
   "id": "fccf891c-791f-45d0-a752-8833a1b35bcb",
   "metadata": {},
   "outputs": [],
   "source": [
    "@app.callback(\n",
    "    Input(\"input\", \"value\")         \n",
    ")\n",
    "def cb_render(*vals):\n",
    "    app.layout = html.Div(children=[\n",
    "        html.H1(children='Shall I get vaccinated?'),\n",
    "\n",
    "        html.Div(children='''\n",
    "            Probability for severe (reported) side effect case in Switzerland\n",
    "        '''),\n",
    "        table\n",
    "    ])"
   ]
  },
  {
   "cell_type": "code",
   "execution_count": null,
   "id": "bfb64450-c1dc-4b1a-b91b-f20434bbc762",
   "metadata": {},
   "outputs": [],
   "source": [
    "\n",
    "if __name__ == '__main__':\n",
    "    app.run_server(debug=True, host='127.0.0.1', port=8318)"
   ]
  },
  {
   "cell_type": "code",
   "execution_count": 21,
   "id": "1610e9b7-a25d-4203-a40f-f041ec262113",
   "metadata": {},
   "outputs": [
    {
     "name": "stdout",
     "output_type": "stream",
     "text": [
      "[NbConvertApp] Converting notebook Untitled.ipynb to python\n",
      "[NbConvertApp] Writing 1500 bytes to Untitled.ipynb.py\n"
     ]
    }
   ],
   "source": [
    "!jupyter nbconvert Untitled.ipynb --to python --output Untitled.ipynb.py"
   ]
  },
  {
   "cell_type": "code",
   "execution_count": null,
   "id": "f40e8f98-c50c-46d3-a020-a33f8bac7f44",
   "metadata": {},
   "outputs": [],
   "source": []
  }
 ],
 "metadata": {
  "kernelspec": {
   "display_name": "Python 3 (ipykernel)",
   "language": "python",
   "name": "python3"
  },
  "language_info": {
   "codemirror_mode": {
    "name": "ipython",
    "version": 3
   },
   "file_extension": ".py",
   "mimetype": "text/x-python",
   "name": "python",
   "nbconvert_exporter": "python",
   "pygments_lexer": "ipython3",
   "version": "3.8.6"
  }
 },
 "nbformat": 4,
 "nbformat_minor": 5
}
